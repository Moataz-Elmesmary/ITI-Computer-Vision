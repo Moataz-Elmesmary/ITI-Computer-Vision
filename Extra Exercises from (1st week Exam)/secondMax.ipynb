{
 "cells": [
  {
   "cell_type": "markdown",
   "id": "2d39b715",
   "metadata": {},
   "source": [
    "# Write a program to get the second highest number in an array of integers. lst=[20,30,45,10,60]"
   ]
  },
  {
   "cell_type": "code",
   "execution_count": 47,
   "id": "6fd33446",
   "metadata": {},
   "outputs": [
    {
     "name": "stdout",
     "output_type": "stream",
     "text": [
      "Second highest number is: 45\n"
     ]
    }
   ],
   "source": [
    "lst=[20,30,45,10,60] \n",
    "\n",
    "lst.sort()\n",
    "print(\"Second highest number is:\", lst[-2])"
   ]
  },
  {
   "cell_type": "code",
   "execution_count": 50,
   "id": "5190cac9",
   "metadata": {},
   "outputs": [
    {
     "name": "stdout",
     "output_type": "stream",
     "text": [
      "45\n"
     ]
    }
   ],
   "source": [
    "#Another Method\n",
    "\n",
    "lst=[20,30,45,10,60] \n",
    " \n",
    "Max = max(lst[0], lst[1])\n",
    "secondMax = min(lst[0], lst[1])\n",
    "n = len(lst)\n",
    "for i in range(2,n):\n",
    "    if lst[i] > Max:\n",
    "        secondMax = Max\n",
    "        Max = lst[i]\n",
    "    elif lst[i] > secondMax and Max != lst[i]:\n",
    "        secondMax = list1[i]\n",
    "    elif Max == secondMax and secondMax != lst[i]:\n",
    "          secondMax = list1[i]\n",
    " \n",
    "print(secondMax)"
   ]
  },
  {
   "cell_type": "code",
   "execution_count": null,
   "id": "08c1000c",
   "metadata": {},
   "outputs": [],
   "source": []
  }
 ],
 "metadata": {
  "kernelspec": {
   "display_name": "Python 3 (ipykernel)",
   "language": "python",
   "name": "python3"
  },
  "language_info": {
   "codemirror_mode": {
    "name": "ipython",
    "version": 3
   },
   "file_extension": ".py",
   "mimetype": "text/x-python",
   "name": "python",
   "nbconvert_exporter": "python",
   "pygments_lexer": "ipython3",
   "version": "3.9.7"
  }
 },
 "nbformat": 4,
 "nbformat_minor": 5
}
