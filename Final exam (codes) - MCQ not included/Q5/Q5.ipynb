{
 "cells": [
  {
   "cell_type": "code",
   "execution_count": null,
   "id": "3169faf3",
   "metadata": {},
   "outputs": [],
   "source": [
    "import cv2\n",
    "from matplotlib import pyplot as plt\n",
    "import numpy as np"
   ]
  },
  {
   "cell_type": "code",
   "execution_count": null,
   "id": "07f170d9",
   "metadata": {},
   "outputs": [],
   "source": [
    "img = cv2.imread(\"viola.jpg\")"
   ]
  },
  {
   "cell_type": "code",
   "execution_count": null,
   "id": "262011e1",
   "metadata": {},
   "outputs": [],
   "source": [
    "gray = cv2.cvtColor(img, cv2.COLOR_BGR2GRAY)"
   ]
  },
  {
   "cell_type": "code",
   "execution_count": null,
   "id": "eab63602",
   "metadata": {},
   "outputs": [],
   "source": [
    "classifier = cv2.CascadeClassifier(cv2.data.haarcascades + 'haarcascade_frontalface_default.xml')\n",
    "cv2.data.haarcascades"
   ]
  },
  {
   "cell_type": "code",
   "execution_count": null,
   "id": "20bda572",
   "metadata": {},
   "outputs": [],
   "source": [
    "face_cascade = cv2.CascadeClassifier('haarcascade_frontalface_default.xml')\n",
    "eye_cascade = cv2.CascadeClassifier('haarcascade_eye.xml')\n",
    "smile_cascade = cv2.CascadeClassifier('haarcascade_smile.xml')"
   ]
  },
  {
   "cell_type": "code",
   "execution_count": null,
   "id": "b7124e48",
   "metadata": {},
   "outputs": [],
   "source": [
    "faces = classifier.detectMultiScale(gray, scaleFactor = 1.5, minNeighbors = 6, minSize = (50, 50))"
   ]
  },
  {
   "cell_type": "code",
   "execution_count": null,
   "id": "6a28426b",
   "metadata": {},
   "outputs": [],
   "source": [
    "image = cv2.imread('viola.jpg')\n",
    "gray_image = cv2.cvtColor(image, cv2.COLOR_BGR2GRAY)\n",
    "while 1:\n",
    "    faces = face_cascade.detectMultiScale(gray_image,scaleFactor=1.1, minNeighbors=5, minSize=(100,100))\n",
    "    for x,y,w,h in faces:\n",
    "        cv2.rectangle(image, (x,y), (x+w, y+h), (0,0,255),5)\n",
    "        cv2.putText(image,'Face',(x+30,y+h+40),cv2.FONT_HERSHEY_SIMPLEX,1.5,(0,0,255),3)\n",
    "        face = gray_image[y:y+h, x:x+w]\n",
    "        eyes = eye_cascade.detectMultiScale(face,scaleFactor=1.35,minNeighbors=5, minSize=(20,20))\n",
    "        for x1,y1,w1,h1 in eyes:\n",
    "            c_x = x+x1+(w1//2)\n",
    "            c_y = y+y1+(h1//2)\n",
    "            cv2.circle(image, (c_x, c_y),15,(0,255,0), 2)\n",
    "            cv2.putText(image,'eye',(c_x-10,c_y+35),cv2.FONT_HERSHEY_SIMPLEX,0.8,(0,0,255),2)\n",
    "        smile = smile_cascade.detectMultiScale(face, scaleFactor=1.2, minNeighbors=8, minSize=(45,45))\n",
    "        for x2, y2, w2, h2 in smile:\n",
    "            cv2.rectangle(image,(x2+x, y2+y), (x2+w2+x, y2+h2+y), (0,0,255), 2)\n",
    "            cv2.putText(image,'smile',(x+x2+20,y+y2+h2+25),cv2.FONT_HERSHEY_SIMPLEX,0.9,(0,0,255),2)\n",
    "\n",
    "    cv2.imshow('image',image)\n",
    "    if cv2.waitKey(0) == ord('b'):\n",
    "        image[y:y+h, x:x+w] = cv2.blur(image[y:y+h, x:x+w],(9,9),borderType=cv2.BORDER_ISOLATED)\n",
    "    elif cv2.waitKey(0) == ord('i'):\n",
    "        image = cv2.imread('viola.jpg')\n",
    "        gray_image = cv2.cvtColor(image, cv2.COLOR_BGR2GRAY)\n",
    "    elif cv2.waitKey(0) == ord('q'):\n",
    "        break\n",
    "\n",
    "cv2.destroyAllWindows()"
   ]
  },
  {
   "cell_type": "code",
   "execution_count": null,
   "id": "2026a7e2",
   "metadata": {},
   "outputs": [],
   "source": []
  }
 ],
 "metadata": {
  "kernelspec": {
   "display_name": "Python 3 (ipykernel)",
   "language": "python",
   "name": "python3"
  },
  "language_info": {
   "codemirror_mode": {
    "name": "ipython",
    "version": 3
   },
   "file_extension": ".py",
   "mimetype": "text/x-python",
   "name": "python",
   "nbconvert_exporter": "python",
   "pygments_lexer": "ipython3",
   "version": "3.9.7"
  }
 },
 "nbformat": 4,
 "nbformat_minor": 5
}
