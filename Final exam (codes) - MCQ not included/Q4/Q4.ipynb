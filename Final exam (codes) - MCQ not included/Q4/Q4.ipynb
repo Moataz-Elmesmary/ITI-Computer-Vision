{
 "cells": [
  {
   "cell_type": "code",
   "execution_count": 1,
   "id": "b13d16f6",
   "metadata": {},
   "outputs": [],
   "source": [
    "import cv2\n",
    "import numpy as np\n",
    "import matplotlib.pyplot as plt"
   ]
  },
  {
   "cell_type": "code",
   "execution_count": 2,
   "id": "216fd317",
   "metadata": {},
   "outputs": [],
   "source": [
    "def nothing(x):\n",
    "    pass\n",
    "\n",
    "cv2.namedWindow(\"Color\")\n",
    "\n",
    "cv2.createTrackbar(\"image\", \"Color\", 0, 1, nothing)\n",
    "cv2.createTrackbar(\"filters\", \"Color\", 0, 1, nothing)\n",
    " \n",
    "while 1:\n",
    "    img1 = cv2.imread(\"nature.jpg\")\n",
    "    img2 = cv2.imread(\"nature-image-for-website.jpg\")\n",
    "    \n",
    "    image = cv2.getTrackbarPos(\"image\", \"Color\")\n",
    "    filters = cv2.getTrackbarPos(\"filters\", \"Color\")\n",
    "    \n",
    "    if image==0 and filters==0: \n",
    "        img1 = cv2.blur(img1, (5, 5))\n",
    "        cv2.imshow(\"Color\", img1)\n",
    "        \n",
    "    elif image==1 and filters==0:\n",
    "        img2 = cv2.blur(img2, (5, 5))\n",
    "        cv2.imshow(\"Color\", img2)\n",
    "        \n",
    "    elif image==0 and filters==1:\n",
    "        img1 = cv2.Canny(img1, 50, 120)\n",
    "        cv2.imshow(\"Color\", img1)\n",
    "    \n",
    "    else:\n",
    "        img2 = cv2.Canny(img2, 50, 120)\n",
    "        cv2.imshow(\"Color\", img2)\n",
    "        \n",
    "    k = cv2.waitKey(1)\n",
    "    if k == ord('q'):\n",
    "        break\n",
    "        \n",
    "cv2.destroyAllWindows()"
   ]
  },
  {
   "cell_type": "code",
   "execution_count": null,
   "id": "1c9215ff",
   "metadata": {},
   "outputs": [],
   "source": []
  }
 ],
 "metadata": {
  "kernelspec": {
   "display_name": "Python 3 (ipykernel)",
   "language": "python",
   "name": "python3"
  },
  "language_info": {
   "codemirror_mode": {
    "name": "ipython",
    "version": 3
   },
   "file_extension": ".py",
   "mimetype": "text/x-python",
   "name": "python",
   "nbconvert_exporter": "python",
   "pygments_lexer": "ipython3",
   "version": "3.9.7"
  }
 },
 "nbformat": 4,
 "nbformat_minor": 5
}
