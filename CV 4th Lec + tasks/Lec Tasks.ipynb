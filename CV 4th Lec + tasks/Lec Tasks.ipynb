{
 "cells": [
  {
   "cell_type": "markdown",
   "id": "1e52deb0",
   "metadata": {},
   "source": [
    "# 1st task"
   ]
  },
  {
   "cell_type": "code",
   "execution_count": 1,
   "id": "7c3b93f1",
   "metadata": {},
   "outputs": [],
   "source": [
    "import cv2\n",
    "import numpy as np\n",
    "import matplotlib.pyplot as plt"
   ]
  },
  {
   "cell_type": "code",
   "execution_count": null,
   "id": "cde0eb21",
   "metadata": {},
   "outputs": [],
   "source": [
    "cv2.namedWindow('image')\n",
    "\n",
    "def nothing(x):\n",
    "    pass\n",
    "cv2.createTrackbar('xStart', 'image',0,500,nothing)\n",
    "cv2.createTrackbar('yStart', 'image',0,500,nothing)\n",
    "cv2.createTrackbar('xEnd', 'image',0,500,nothing)\n",
    "cv2.createTrackbar('yEnd', 'image',0,500,nothing)\n",
    "\n",
    "while(1):\n",
    "    img = np.zeros((500, 500, 3), np.uint8)\n",
    "    xStart = cv2.getTrackbarPos('xStart', 'image')\n",
    "    yStart = cv2.getTrackbarPos('yStart', 'image')\n",
    "    xEnd = cv2.getTrackbarPos('xEnd', 'image')\n",
    "    yEnd = cv2.getTrackbarPos('yEnd', 'image')\n",
    "    cv2.line(img,(xStart, yStart), (xEnd,yEnd),(0,0,255),5)\n",
    "    cv2.imshow('image', img)\n",
    "    k = cv2.waitKey(1)\n",
    "    if k ==27:\n",
    "        break\n",
    "\n",
    "cv2.destroyAllWindows()\n",
    "\n"
   ]
  },
  {
   "cell_type": "markdown",
   "id": "4d81a259",
   "metadata": {},
   "source": [
    "# 2nd task"
   ]
  },
  {
   "cell_type": "code",
   "execution_count": 7,
   "id": "735f53d6",
   "metadata": {},
   "outputs": [
    {
     "data": {
      "image/png": "[encoded data removed]",
      "text/plain": [
       "<Figure size 432x288 with 1 Axes>"
      ]
     },
     "metadata": {
      "needs_background": "light"
     },
     "output_type": "display_data"
    }
   ],
   "source": [
    "img1 = np.zeros((500,500,3), np.uint8)\n",
    "cv2.rectangle(img1,(95,95), (405,405), (255,255,255),5)\n",
    "cv2.rectangle(img1,(100,100), (400,400), (0,0,255),-1)\n",
    "plt.imshow(img1[:,:,::-1]);"
   ]
  },
  {
   "cell_type": "markdown",
   "id": "ed177b07",
   "metadata": {},
   "source": [
    "# 3rd task"
   ]
  },
  {
   "cell_type": "code",
   "execution_count": null,
   "id": "ea1f5130",
   "metadata": {},
   "outputs": [],
   "source": [
    "img = np.zeros((500,500,3), np.uint8)\n",
    "\n",
    "cv2.namedWindow('image')\n",
    "\n",
    "def nothing(x):\n",
    "    pass\n",
    "cv2.createTrackbar('h', 'image',0,500,nothing)\n",
    "cv2.createTrackbar('w', 'image',0,500,nothing)\n",
    "cv2.createTrackbar('rot', 'image',0,360,nothing)\n",
    "cv2.createTrackbar('s', 'image',0,360,nothing)\n",
    "cv2.createTrackbar('e', 'image',0,360,nothing)\n",
    "\n",
    "\n",
    "while(1):\n",
    "    img = np.zeros((500, 500, 3), np.uint8)\n",
    "    h = cv2.getTrackbarPos('h', 'image')\n",
    "    w = cv2.getTrackbarPos('w', 'image')\n",
    "    rot = cv2.getTrackbarPos('rot', 'image')\n",
    "    s = cv2.getTrackbarPos('s', 'image')\n",
    "    e = cv2.getTrackbarPos('e', 'image')\n",
    "\n",
    "    cv2.ellipse(img,(250,250), (h,w), rot,s,e,(0,0,255),-1)\n",
    "\n",
    "    cv2.imshow('image', img)\n",
    "    k = cv2.waitKey(1)\n",
    "    if k ==27:\n",
    "        break\n",
    "\n",
    "cv2.destroyAllWindows()\n"
   ]
  }
 ],
 "metadata": {
  "kernelspec": {
   "display_name": "Python 3 (ipykernel)",
   "language": "python",
   "name": "python3"
  },
  "language_info": {
   "codemirror_mode": {
    "name": "ipython",
    "version": 3
   },
   "file_extension": ".py",
   "mimetype": "text/x-python",
   "name": "python",
   "nbconvert_exporter": "python",
   "pygments_lexer": "ipython3",
   "version": "3.9.7"
  }
 },
 "nbformat": 4,
 "nbformat_minor": 5
}
