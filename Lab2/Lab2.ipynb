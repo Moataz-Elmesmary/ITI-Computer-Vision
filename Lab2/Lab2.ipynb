{
 "cells": [
  {
   "cell_type": "markdown",
   "id": "3699a781",
   "metadata": {},
   "source": [
    "# Q1 -Write a program to display the last digit of a number."
   ]
  },
  {
   "cell_type": "code",
   "execution_count": 5,
   "id": "9be5758b",
   "metadata": {},
   "outputs": [
    {
     "name": "stdout",
     "output_type": "stream",
     "text": [
      "5\n"
     ]
    }
   ],
   "source": [
    "num = 12345\n",
    "last_digit = int(repr(num)[-1])\n",
    "print(last_digit)"
   ]
  },
  {
   "cell_type": "markdown",
   "id": "cc266c78",
   "metadata": {},
   "source": [
    "# Q2- Write a program to check whether the last digit of a number( entered by user ) is divisible by 3 or not."
   ]
  },
  {
   "cell_type": "code",
   "execution_count": 7,
   "id": "6542ca5f",
   "metadata": {},
   "outputs": [
    {
     "name": "stdout",
     "output_type": "stream",
     "text": [
      "Enter a number:239\n",
      "9 is divisible by 3 \n"
     ]
    }
   ],
   "source": [
    "num = int(input(\"Enter a number:\"))\n",
    "\n",
    "last_digit = num%10 #last_digit = int(repr(num)[-1])\n",
    "\n",
    "if(last_digit%3==0):\n",
    "    print(\"{} is divisible by 3 \".format(last_digit))\n",
    "else:\n",
    "    print(\"{} is not divisible by 3\".format(last_digit))"
   ]
  },
  {
   "cell_type": "markdown",
   "id": "2474d3e7",
   "metadata": {},
   "source": [
    "# Q3- Write a program to accept a number from 1 to 7 and display the name of the day like 1 for Sunday , 2 for Monday and so on."
   ]
  },
  {
   "cell_type": "code",
   "execution_count": 9,
   "id": "5e8de5b8",
   "metadata": {},
   "outputs": [
    {
     "name": "stdout",
     "output_type": "stream",
     "text": [
      "Enter weekday day number (1-7) : 3\n",
      "Tuesday\n"
     ]
    }
   ],
   "source": [
    "weekday = int(input(\"Enter weekday day number (1-7) : \"))\n",
    "\n",
    "if weekday == 1 :\n",
    "    print(\"Sunday\");\n",
    "\n",
    "elif weekday == 2 :\n",
    "    print(\"Monday\")\n",
    "\n",
    "elif(weekday == 3) :\n",
    "    print(\"Tuesday\")\n",
    "\n",
    "elif(weekday == 4) :\n",
    "    print(\"Wednesday\")\n",
    "\n",
    "elif(weekday == 5) :\n",
    "    print(\"Thursday\")\n",
    "\n",
    "elif(weekday == 6) :\n",
    "    print(\"Friday\")\n",
    "\n",
    "elif (weekday == 7) :\n",
    "    print(\"Saturday\")\n",
    "\n",
    "else :\n",
    "    print(\"Please enter weekday number between 1-7.\")"
   ]
  },
  {
   "cell_type": "markdown",
   "id": "10f1e22f",
   "metadata": {},
   "source": [
    "# Q4- Write a program to check a character is vowel or not."
   ]
  },
  {
   "cell_type": "code",
   "execution_count": 12,
   "id": "85549f3e",
   "metadata": {},
   "outputs": [
    {
     "name": "stdout",
     "output_type": "stream",
     "text": [
      "Input character: s\n",
      "This character is a consonant.\n"
     ]
    }
   ],
   "source": [
    "char = input(\"Input character: \")\n",
    "\n",
    "if char in ('a', 'e', 'i', 'o', 'u'):\n",
    "    print(\"This character is a vowel.\")\n",
    "\n",
    "else:\n",
    "    print(\"This character is a consonant.\") "
   ]
  },
  {
   "cell_type": "markdown",
   "id": "37b6de9e",
   "metadata": {},
   "source": [
    "# Q5- Accept the marked price from the user and calculate the Net amount as(Marked Price – Discount) to pay according to following criteria:"
   ]
  },
  {
   "cell_type": "code",
   "execution_count": 14,
   "id": "8d72d021",
   "metadata": {},
   "outputs": [
    {
     "name": "stdout",
     "output_type": "stream",
     "text": [
      "Enter the marked price: 7865\n",
      "Net amount :  6685.25\n"
     ]
    }
   ],
   "source": [
    "marked_price =int(input(\"Enter the marked price: \"))\n",
    "if marked_price > 10000:\n",
    "     net_amount = (marked_price - marked_price*.2)\n",
    "elif marked_price > 7000 and marked_price <= 10000:\n",
    "     net_amount = (marked_price - marked_price*.15)\n",
    "elif marked_price <= 7000:\n",
    "     net_amount = (marked_price - marked_price*.1)\n",
    "else:\n",
    "    print(\"Invalid Amount\")\n",
    "    \n",
    "print(\"Net amount : \",net_amount)\n"
   ]
  },
  {
   "cell_type": "markdown",
   "id": "885982f5",
   "metadata": {},
   "source": [
    "# Q6- Use a loop to display elements from a given list that are present at odd index positions lst = [10, 20, 30, 40, 50, 60, 70, 80, 90, 100]"
   ]
  },
  {
   "cell_type": "code",
   "execution_count": 15,
   "id": "ff9fbb01",
   "metadata": {},
   "outputs": [
    {
     "name": "stdout",
     "output_type": "stream",
     "text": [
      "20\n",
      "40\n",
      "60\n",
      "80\n",
      "100\n"
     ]
    }
   ],
   "source": [
    "lst = [10, 20, 30, 40, 50, 60, 70, 80, 90, 100]\n",
    "\n",
    "for i in lst[1::2]:\n",
    "    print(i)"
   ]
  },
  {
   "cell_type": "markdown",
   "id": "99d70b9a",
   "metadata": {},
   "source": [
    "# Q7- Write program to print the following pattern using loop."
   ]
  },
  {
   "cell_type": "code",
   "execution_count": 17,
   "id": "11b69fe0",
   "metadata": {},
   "outputs": [
    {
     "name": "stdout",
     "output_type": "stream",
     "text": [
      "1\n",
      "12\n",
      "123\n",
      "1234\n"
     ]
    }
   ],
   "source": [
    "for i in range(1,5):\n",
    "    for j in range(1, i+1):\n",
    "        print(j, end=\"\")\n",
    "    print()"
   ]
  },
  {
   "cell_type": "markdown",
   "id": "f63d8f1b",
   "metadata": {},
   "source": [
    "# Q8 - Write a program that keep on accepting number from the user until user enters Zero. Display the sum and average of all the numbers"
   ]
  },
  {
   "cell_type": "code",
   "execution_count": 32,
   "id": "ed3189e1",
   "metadata": {},
   "outputs": [
    {
     "name": "stdout",
     "output_type": "stream",
     "text": [
      "Insert Number: 5\n",
      "Insert Number: 6\n",
      "Insert Number: 0\n",
      "11\n"
     ]
    }
   ],
   "source": [
    "sum = 0\n",
    "while True:\n",
    "        user = int(input('Insert Number: '))\n",
    "        sum += user\n",
    "        if user == 0:\n",
    "            break\n",
    "print(sum)\n",
    "from statistics import mean\n",
    "average = mean(sum)"
   ]
  },
  {
   "cell_type": "markdown",
   "id": "26a4fdd2",
   "metadata": {},
   "source": [
    "# Q9- Generate a Python list of all the even numbers between 4 to 30"
   ]
  },
  {
   "cell_type": "code",
   "execution_count": 43,
   "id": "920f4271",
   "metadata": {},
   "outputs": [
    {
     "name": "stdout",
     "output_type": "stream",
     "text": [
      "4\n",
      "6\n",
      "8\n",
      "10\n",
      "12\n",
      "14\n",
      "16\n",
      "18\n",
      "20\n",
      "22\n",
      "24\n",
      "26\n",
      "28\n"
     ]
    }
   ],
   "source": [
    "for num in range(4,30):\n",
    "    if num % 2 == 0:\n",
    "        print(num)"
   ]
  },
  {
   "cell_type": "markdown",
   "id": "d6f1dea4",
   "metadata": {},
   "source": [
    "# Q10- Make Method to Return the Maximum and Minimum item from the given list. lst=[100,30,22,40,60,20,10,300]"
   ]
  },
  {
   "cell_type": "code",
   "execution_count": 48,
   "id": "22544566",
   "metadata": {},
   "outputs": [
    {
     "name": "stdout",
     "output_type": "stream",
     "text": [
      "Maximum num is:  300\n",
      "Minimum num is:  10\n"
     ]
    }
   ],
   "source": [
    "lst=[100,30,22,40,60,20,10,300]\n",
    "print('Maximum num is: ', max(lst))\n",
    "print('Minimum num is: ', min(lst))\n"
   ]
  },
  {
   "cell_type": "markdown",
   "id": "e623e2c9",
   "metadata": {},
   "source": [
    "# Hacker Rank"
   ]
  },
  {
   "cell_type": "code",
   "execution_count": 49,
   "id": "f2607c9a",
   "metadata": {},
   "outputs": [
    {
     "name": "stdout",
     "output_type": "stream",
     "text": [
      "5\n",
      "0\n",
      "1\n",
      "4\n",
      "9\n",
      "16\n"
     ]
    }
   ],
   "source": [
    "if __name__ == '__main__':\n",
    "    n = int(input())\n",
    "    for i in range(n):\n",
    "        print(i*i)"
   ]
  },
  {
   "cell_type": "code",
   "execution_count": 50,
   "id": "83c15efd",
   "metadata": {},
   "outputs": [
    {
     "name": "stdout",
     "output_type": "stream",
     "text": [
      "2022\n",
      "False\n"
     ]
    }
   ],
   "source": [
    "def is_leap(year):\n",
    "    leap = False\n",
    "    \n",
    "    # Write your logic here\n",
    "    return((year%400==0 or year%100!=0) and year%4==0)\n",
    "\n",
    "    #return leap\n",
    "\n",
    "year = int(input())\n",
    "print(is_leap(year))"
   ]
  },
  {
   "cell_type": "code",
   "execution_count": 51,
   "id": "0d9d9edc",
   "metadata": {},
   "outputs": [
    {
     "name": "stdout",
     "output_type": "stream",
     "text": [
      "3\n",
      "Weird\n"
     ]
    }
   ],
   "source": [
    "import math\n",
    "import os\n",
    "import random\n",
    "import re\n",
    "import sys\n",
    "\n",
    "\n",
    "\n",
    "if __name__ == '__main__':\n",
    "    n = int(input().strip())\n",
    "    if n % 2 == 1:\n",
    "        print(\"Weird\")\n",
    "    elif n % 2 == 0 and 2 <= n <= 5:\n",
    "        print(\"Not Weird\")\n",
    "    elif n % 2 == 0 and 6 <= n <= 20:\n",
    "        print(\"Weird\")\n",
    "    else:\n",
    "        print(\"Not Weird\")"
   ]
  },
  {
   "cell_type": "code",
   "execution_count": null,
   "id": "ce713c6e",
   "metadata": {},
   "outputs": [],
   "source": []
  }
 ],
 "metadata": {
  "kernelspec": {
   "display_name": "Python 3 (ipykernel)",
   "language": "python",
   "name": "python3"
  },
  "language_info": {
   "codemirror_mode": {
    "name": "ipython",
    "version": 3
   },
   "file_extension": ".py",
   "mimetype": "text/x-python",
   "name": "python",
   "nbconvert_exporter": "python",
   "pygments_lexer": "ipython3",
   "version": "3.9.7"
  }
 },
 "nbformat": 4,
 "nbformat_minor": 5
}
