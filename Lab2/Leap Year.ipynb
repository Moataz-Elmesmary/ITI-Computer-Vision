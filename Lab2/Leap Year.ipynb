{
 "cells": [
  {
   "cell_type": "markdown",
   "id": "a94dcea2",
   "metadata": {},
   "source": [
    "# Leap Year"
   ]
  },
  {
   "cell_type": "code",
   "execution_count": 3,
   "id": "aad39956",
   "metadata": {},
   "outputs": [
    {
     "name": "stdout",
     "output_type": "stream",
     "text": [
      "Enter year to be checked:2000\n",
      "leap year\n"
     ]
    }
   ],
   "source": [
    "#Using if\n",
    "year=int(input(\"Enter year to be checked:\"))\n",
    "if(year%4==0 and year%100!=0 or year%400==0):\n",
    "    print(\"leap year\")\n",
    "else:\n",
    "    print(\"Not a leap year\")"
   ]
  },
  {
   "cell_type": "code",
   "execution_count": 4,
   "id": "679a8a02",
   "metadata": {},
   "outputs": [
    {
     "name": "stdout",
     "output_type": "stream",
     "text": [
      "Enter year to be checked:2000\n",
      "Leap Year\n"
     ]
    }
   ],
   "source": [
    "#Using Function\n",
    "def checkYear(year):\n",
    "    return (((year % 4 == 0) and (year % 100 != 0)) or (year % 400 == 0));\n",
    " \n",
    "year = int(input(\"Enter year to be checked:\"))\n",
    "if(checkYear(year)):\n",
    "    print(\"Leap Year\")\n",
    "else:\n",
    "    print(\"Not a Leap Year\")"
   ]
  },
  {
   "cell_type": "code",
   "execution_count": null,
   "id": "46f17aef",
   "metadata": {},
   "outputs": [],
   "source": []
  }
 ],
 "metadata": {
  "kernelspec": {
   "display_name": "Python 3 (ipykernel)",
   "language": "python",
   "name": "python3"
  },
  "language_info": {
   "codemirror_mode": {
    "name": "ipython",
    "version": 3
   },
   "file_extension": ".py",
   "mimetype": "text/x-python",
   "name": "python",
   "nbconvert_exporter": "python",
   "pygments_lexer": "ipython3",
   "version": "3.9.7"
  }
 },
 "nbformat": 4,
 "nbformat_minor": 5
}
