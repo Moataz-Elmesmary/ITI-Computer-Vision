{
 "cells": [
  {
   "cell_type": "markdown",
   "id": "df54e1fb",
   "metadata": {},
   "source": [
    "# Q1- Given a list of numbers, Calculate and print the sum of the list using loops techniques. lst=[1,2,5,6,8,3]"
   ]
  },
  {
   "cell_type": "code",
   "execution_count": 1,
   "id": "3e1bdc58",
   "metadata": {},
   "outputs": [
    {
     "name": "stdout",
     "output_type": "stream",
     "text": [
      "Sum of all elements in given list:  25\n"
     ]
    }
   ],
   "source": [
    "#Using sum function\n",
    "\n",
    "lst=[1,2,5,6,8,3]\n",
    "total = sum(lst)\n",
    "print(\"Sum of all elements in given list: \", total)"
   ]
  },
  {
   "cell_type": "markdown",
   "id": "9b1ec4ae",
   "metadata": {},
   "source": [
    "# Q2- Given a list of numbers, Write a Python program to print the even number of this list.  lst=[ 10,11,13,12,15,20,40]"
   ]
  },
  {
   "cell_type": "code",
   "execution_count": 8,
   "id": "a88801f9",
   "metadata": {},
   "outputs": [
    {
     "name": "stdout",
     "output_type": "stream",
     "text": [
      "10\n",
      "12\n",
      "20\n",
      "40\n"
     ]
    }
   ],
   "source": [
    "lst=[ 10,11,13,12,15,20,40]\n",
    " \n",
    "for num in lst:\n",
    "     if num % 2 == 0:\n",
    "        print(num)"
   ]
  },
  {
   "cell_type": "markdown",
   "id": "e7bdf35c",
   "metadata": {},
   "source": [
    "# Q3- Given 2 numbers a, b, Write a Python program to print the result of division a / b if b isn't zero and print \"Error!! Division by zero\" if b is zero."
   ]
  },
  {
   "cell_type": "code",
   "execution_count": 11,
   "id": "f414775b",
   "metadata": {},
   "outputs": [
    {
     "name": "stdout",
     "output_type": "stream",
     "text": [
      "Error!!\n"
     ]
    }
   ],
   "source": [
    "a = 5\n",
    "b = 0\n",
    "if (b != 0):\n",
    "    print(a/b)\n",
    "if (b == 0):\n",
    "    print(\"Error!!\")"
   ]
  },
  {
   "cell_type": "markdown",
   "id": "7a18f9b5",
   "metadata": {},
   "source": [
    "# Q4- Iterate over the following list, and print a new line for each element to match  the following conditions: lst = [2, 0, 3, 13, 76, 5, 8, 10, 1, 33, 42]\n",
    " - Print \"Even less than 10\" if the number is even and less than 10.\n",
    " - Print \"Even greater than 10\" if the number is even and greater than 10. \n",
    " - Print \"Odd less than 10\" if the number is odd and less than 10.\n",
    " - Print \"Odd greater than 10\" if the number is odd and greater than 10.\n",
    " - Print \"Zero\" if the number is zero."
   ]
  },
  {
   "cell_type": "code",
   "execution_count": 13,
   "id": "56ced654",
   "metadata": {},
   "outputs": [
    {
     "name": "stdout",
     "output_type": "stream",
     "text": [
      "Even less than 10\n",
      "Even less than 10\n",
      "Odd less than 10\n",
      "Odd greater than 10\n",
      "Even greater than 10\n",
      "Odd less than 10\n",
      "Even less than 10\n",
      "Odd less than 10\n",
      "Odd greater than 10\n",
      "Even greater than 10\n"
     ]
    }
   ],
   "source": [
    "lst = [2, 0, 3, 13, 76, 5, 8, 10, 1, 33, 42]\n",
    "for num in lst:\n",
    "     if (num % 2 == 0) and (num < 10):\n",
    "            print(\"Even less than 10\")\n",
    "     elif (num % 2 == 0) and (num > 10):\n",
    "            print(\"Even greater than 10\")\n",
    "     elif (num % 2 != 0) and (num < 10):\n",
    "            print(\"Odd less than 10\")       \n",
    "     elif (num % 2 != 0) and (num > 10):\n",
    "            print(\"Odd greater than 10\")\n",
    "     elif (num == 0):\n",
    "        print(\"Zero\")"
   ]
  },
  {
   "cell_type": "markdown",
   "id": "e2997398",
   "metadata": {},
   "source": [
    "# Q5- Find the index of the value \"76\" in the following list ,lst = [2, 0, 3, 13, 76, 5, 8, 10, 1, 33, 42]\n",
    " - add this index to the end of the list, \n",
    " - then sort this list \n",
    " - print the list and its length"
   ]
  },
  {
   "cell_type": "code",
   "execution_count": 4,
   "id": "14de99c0",
   "metadata": {},
   "outputs": [
    {
     "data": {
      "text/plain": [
       "4"
      ]
     },
     "execution_count": 4,
     "metadata": {},
     "output_type": "execute_result"
    }
   ],
   "source": [
    "lst = [2, 0, 3, 13, 76, 5, 8, 10, 1, 33, 42]\n",
    "lst.index(76)"
   ]
  },
  {
   "cell_type": "code",
   "execution_count": 5,
   "id": "d28ed680",
   "metadata": {},
   "outputs": [
    {
     "name": "stdout",
     "output_type": "stream",
     "text": [
      "[2, 0, 3, 13, 76, 5, 8, 10, 1, 33, 42, 4]\n"
     ]
    }
   ],
   "source": [
    "lst.append(4)  #Appending at the end\n",
    "print (lst)"
   ]
  },
  {
   "cell_type": "code",
   "execution_count": 9,
   "id": "05f1b773",
   "metadata": {},
   "outputs": [
    {
     "name": "stdout",
     "output_type": "stream",
     "text": [
      "[0, 1, 2, 3, 4, 5, 8, 10, 13, 33, 42, 76]\n"
     ]
    }
   ],
   "source": [
    "lst.sort()    #sorting list\n",
    "print(lst)    #printing list"
   ]
  },
  {
   "cell_type": "code",
   "execution_count": 10,
   "id": "d370afae",
   "metadata": {},
   "outputs": [
    {
     "name": "stdout",
     "output_type": "stream",
     "text": [
      "12\n"
     ]
    }
   ],
   "source": [
    "print (len(lst))    #length"
   ]
  },
  {
   "cell_type": "markdown",
   "id": "81982269",
   "metadata": {},
   "source": [
    "# Q6- Given the following dictionary, ip_dict_ = {'first_name': 'Alan', 'age': 26, 'country': 'England'}\n",
    "- Change the value of age to be 42 \n",
    "- add a key to the dictionary named \"last_name\" and set its value to 'Turing'\n",
    "- remove the country key # print the result dictionary"
   ]
  },
  {
   "cell_type": "code",
   "execution_count": 11,
   "id": "c2a9a3be",
   "metadata": {},
   "outputs": [
    {
     "name": "stdout",
     "output_type": "stream",
     "text": [
      "{'first_name': 'Alan', 'age': 42, 'country': 'England'}\n"
     ]
    }
   ],
   "source": [
    "ip_dict_ = {'first_name': 'Alan', 'age': 26, 'country': 'England'}\n",
    "ip_dict_['age'] = 42\n",
    "print (ip_dict_)"
   ]
  },
  {
   "cell_type": "code",
   "execution_count": null,
   "id": "da7d9745",
   "metadata": {},
   "outputs": [],
   "source": []
  }
 ],
 "metadata": {
  "kernelspec": {
   "display_name": "Python 3 (ipykernel)",
   "language": "python",
   "name": "python3"
  },
  "language_info": {
   "codemirror_mode": {
    "name": "ipython",
    "version": 3
   },
   "file_extension": ".py",
   "mimetype": "text/x-python",
   "name": "python",
   "nbconvert_exporter": "python",
   "pygments_lexer": "ipython3",
   "version": "3.9.7"
  }
 },
 "nbformat": 4,
 "nbformat_minor": 5
}
