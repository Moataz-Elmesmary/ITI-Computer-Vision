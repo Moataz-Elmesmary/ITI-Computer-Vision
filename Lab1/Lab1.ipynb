{
 "cells": [
  {
   "cell_type": "markdown",
   "id": "c0b86844",
   "metadata": {},
   "source": [
    "# 1) Write a python code that ask the user to enter his birth year and then print his age in years."
   ]
  },
  {
   "cell_type": "code",
   "execution_count": 1,
   "id": "0a399e9b",
   "metadata": {},
   "outputs": [
    {
     "name": "stdout",
     "output_type": "stream",
     "text": [
      "Enter your birth year: 1999\n",
      "23\n"
     ]
    }
   ],
   "source": [
    "import datetime\n",
    "year = datetime.datetime.now().year\n",
    "\n",
    "year_of_birth = int(input(\"Enter your birth year: \"))\n",
    "print (year - year_of_birth)"
   ]
  },
  {
   "cell_type": "markdown",
   "id": "b0008d5d",
   "metadata": {},
   "source": [
    "# 2) Write a python code to find Sum and Average of N Natural Numbers"
   ]
  },
  {
   "cell_type": "code",
   "execution_count": 2,
   "id": "176ecbf7",
   "metadata": {},
   "outputs": [
    {
     "name": "stdout",
     "output_type": "stream",
     "text": [
      "Please, enter any number: 50\n",
      "Sum of Natural Numbers  50 numbers is:  1275\n",
      "Average of Natural Numbers  50 numbers is:  25.5\n"
     ]
    }
   ],
   "source": [
    "n = int(input(\"Please, enter any number: \"))\n",
    "sum = 0\n",
    "\n",
    "for num in range(1, n + 1, 1):\n",
    "    sum = sum + num\n",
    "print(\"Sum of Natural Numbers \", n, \"numbers is: \", sum)\n",
    "average = sum / n\n",
    "print(\"Average of Natural Numbers \", n, \"numbers is: \", average)"
   ]
  },
  {
   "cell_type": "markdown",
   "id": "8f98383d",
   "metadata": {},
   "source": [
    "# 3) Python Program to Check Even or Odd"
   ]
  },
  {
   "cell_type": "code",
   "execution_count": 3,
   "id": "c6433928",
   "metadata": {},
   "outputs": [
    {
     "name": "stdout",
     "output_type": "stream",
     "text": [
      "Enter a Number:11\n",
      "Given number is Odd\n"
     ]
    }
   ],
   "source": [
    "num = int(input(\"Enter a Number:\")) \n",
    "if num % 2 == 0: \n",
    "  print(\"Given number is Even\") \n",
    "else: \n",
    "  print(\"Given number is Odd\")"
   ]
  },
  {
   "cell_type": "markdown",
   "id": "a42998c0",
   "metadata": {},
   "source": [
    "# 4) What's Your Name?"
   ]
  },
  {
   "cell_type": "code",
   "execution_count": 4,
   "id": "f9b8c9f1",
   "metadata": {},
   "outputs": [
    {
     "name": "stdout",
     "output_type": "stream",
     "text": [
      "First Name: Moataz\n",
      "Last Name: Elmesmary\n",
      "Hello Moataz Elmesmary! You just delved into python.\n"
     ]
    }
   ],
   "source": [
    "def print_full_name(a, b):\n",
    "    print(\"Hello \" + a, b + \"! You just delved into python.\")\n",
    "if __name__ == '__main__':\n",
    "    first_name = input('First Name: ')\n",
    "    last_name = input('Last Name: ')\n",
    "    print_full_name(first_name, last_name)"
   ]
  },
  {
   "cell_type": "markdown",
   "id": "d3bbfccc",
   "metadata": {},
   "source": [
    "# 5) String Split and Join"
   ]
  },
  {
   "cell_type": "code",
   "execution_count": 5,
   "id": "973cb6de",
   "metadata": {},
   "outputs": [
    {
     "name": "stdout",
     "output_type": "stream",
     "text": [
      "this is a string\n",
      "this-is-a-string\n"
     ]
    }
   ],
   "source": [
    "def split_and_join(line):\n",
    "\n",
    "    # write your code here\n",
    "    Output = line.split();\n",
    "    Output = \"-\".join(Output)\n",
    "    return Output;\n",
    "if __name__ == '__main__':\n",
    "    line = input()\n",
    "    result = split_and_join(line)\n",
    "    print(result)"
   ]
  },
  {
   "cell_type": "markdown",
   "id": "1d264e6f",
   "metadata": {},
   "source": [
    "# 6) sWAP cASE"
   ]
  },
  {
   "cell_type": "code",
   "execution_count": 6,
   "id": "04bc4e94",
   "metadata": {},
   "outputs": [
    {
     "name": "stdout",
     "output_type": "stream",
     "text": [
      "HackerRank.com presents \"Pythonist 2\"\n",
      "hACKERrANK.COM PRESENTS \"pYTHONIST 2\"\n"
     ]
    }
   ],
   "source": [
    "def swap_case(s):\n",
    "\n",
    "    Output = '';\n",
    "    for char in s:\n",
    "        if(char.isupper()==True):\n",
    "            Output += (char.lower());\n",
    "        elif(char.islower()==True):\n",
    "            Output += (char.upper());\n",
    "        else:\n",
    "            Output += char;\n",
    "    return Output;\n",
    "\n",
    "if __name__ == '__main__':\n",
    "    s = input()\n",
    "    result = swap_case(s)\n",
    "    print(result)"
   ]
  },
  {
   "cell_type": "markdown",
   "id": "97c3fd47",
   "metadata": {},
   "source": [
    "# 7) Implement a code that takes as an input ASCII code for some characters and combine them to form a string."
   ]
  },
  {
   "cell_type": "code",
   "execution_count": null,
   "id": "654a9c86",
   "metadata": {},
   "outputs": [
    {
     "name": "stdout",
     "output_type": "stream",
     "text": [
      "Enter ASCII code:70\n",
      "F\n",
      "Enter ASCII code:80\n",
      "FP\n"
     ]
    }
   ],
   "source": [
    "s=\"\"\n",
    "while True:\n",
    "        num = int(input('Enter ASCII code:'))\n",
    "        char = (chr(num))\n",
    "        s += char\n",
    "        print(s)"
   ]
  },
  {
   "cell_type": "code",
   "execution_count": 8,
   "id": "47ca9a98",
   "metadata": {},
   "outputs": [
    {
     "name": "stdout",
     "output_type": "stream",
     "text": [
      "abc\n"
     ]
    }
   ],
   "source": [
    "#Another Example\n",
    "ascii = [97, 98, 99]\n",
    "\n",
    "toString = \"\".join([chr(value) for value in ascii])\n",
    "\n",
    "print(toString)"
   ]
  },
  {
   "cell_type": "markdown",
   "id": "eb1f905c",
   "metadata": {},
   "source": [
    "# 8) Write a Python program which accepts the radius of a circle from the user and compute the area."
   ]
  },
  {
   "cell_type": "code",
   "execution_count": 9,
   "id": "a501033c",
   "metadata": {},
   "outputs": [
    {
     "name": "stdout",
     "output_type": "stream",
     "text": [
      "Enter the radius of the circle : 60\n",
      "The area of the circle with radius 60.0 is: 11309.733552923255\n"
     ]
    }
   ],
   "source": [
    "from math import pi\n",
    "r = float(input (\"Enter the radius of the circle : \"))\n",
    "print (\"The area of the circle with radius \" + str(r) + \" is: \" + str(pi * r**2))"
   ]
  },
  {
   "cell_type": "markdown",
   "id": "c52eacd3",
   "metadata": {},
   "source": [
    "# 9) Write a Python program which accepts the user's first and last name and print them in reverse order with a space between them."
   ]
  },
  {
   "cell_type": "code",
   "execution_count": 10,
   "id": "fdd2b2ff",
   "metadata": {},
   "outputs": [
    {
     "name": "stdout",
     "output_type": "stream",
     "text": [
      "Input your First Name : Moataz\n",
      "Input your Last Name : Elmesmary\n",
      "Hello  Elmesmary Moataz\n"
     ]
    }
   ],
   "source": [
    "firstname = input(\"Input your First Name : \")\n",
    "lastname = input(\"Input your Last Name : \")\n",
    "print (\"Hello  \" + lastname + \" \" + firstname)"
   ]
  },
  {
   "cell_type": "markdown",
   "id": "70938862",
   "metadata": {},
   "source": [
    "# 10) Write a Python program to print the following string in a specific format with one variable name.name= ‘Twinkle’ (string)"
   ]
  },
  {
   "cell_type": "code",
   "execution_count": 11,
   "id": "c655d742",
   "metadata": {},
   "outputs": [
    {
     "name": "stdout",
     "output_type": "stream",
     "text": [
      "Twinkle, twinkle, little star, \n",
      "\t\tHow I wonder what you are! \n",
      "\t\tUp above the world so high, \n",
      "\t\tLike a diamond in the sky. \n",
      "Twinkle, twinkle, little star, \n",
      "\t\tHow I wonder what you are!\n"
     ]
    }
   ],
   "source": [
    "print(\"Twinkle, twinkle, little star, \\n\\t\\tHow I wonder what you are! \\n\\t\\tUp above the world so high, \\n\\t\\tLike a diamond in the sky. \\nTwinkle, twinkle, little star, \\n\\t\\tHow I wonder what you are!\")"
   ]
  },
  {
   "cell_type": "code",
   "execution_count": null,
   "id": "5ef31e92",
   "metadata": {},
   "outputs": [],
   "source": []
  }
 ],
 "metadata": {
  "kernelspec": {
   "display_name": "Python 3 (ipykernel)",
   "language": "python",
   "name": "python3"
  },
  "language_info": {
   "codemirror_mode": {
    "name": "ipython",
    "version": 3
   },
   "file_extension": ".py",
   "mimetype": "text/x-python",
   "name": "python",
   "nbconvert_exporter": "python",
   "pygments_lexer": "ipython3",
   "version": "3.9.7"
  }
 },
 "nbformat": 4,
 "nbformat_minor": 5
}
