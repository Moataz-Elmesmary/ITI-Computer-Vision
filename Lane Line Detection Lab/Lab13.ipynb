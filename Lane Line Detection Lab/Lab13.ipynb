{
 "cells": [
  {
   "cell_type": "markdown",
   "id": "f359befb",
   "metadata": {},
   "source": [
    "# Q1 Make Trackbar for the following images to tune the parameters of canny detection"
   ]
  },
  {
   "cell_type": "code",
   "execution_count": 1,
   "id": "e6d31ac3",
   "metadata": {},
   "outputs": [],
   "source": [
    "import cv2\n",
    "import matplotlib.pyplot as plt\n",
    "import numpy as np\n",
    "%run helpers.py\n",
    "%matplotlib inline"
   ]
  },
  {
   "cell_type": "code",
   "execution_count": 2,
   "id": "199a6cec",
   "metadata": {},
   "outputs": [],
   "source": [
    "image = cv2.imread('solidWhiteCurve.jpg') \n",
    "image = cv2.cvtColor(image, cv2.COLOR_BGR2RGB)\n",
    "gray_img = cv2.cvtColor(image, cv2.COLOR_RGB2GRAY)\n",
    "def nothing(x):\n",
    "    pass\n",
    "\n",
    "cv2.namedWindow('Canny')\n",
    "cv2.createTrackbar('Min','Canny',1,200,nothing)\n",
    "cv2.createTrackbar('Max','Canny',1,200,nothing)\n",
    "while True:\n",
    "    min=cv2.getTrackbarPos('Min','Canny')\n",
    "    max=cv2.getTrackbarPos('Max','Canny')\n",
    "\n",
    "    def canny_edges(gray):\n",
    "        kernel = 5\n",
    "        blur_gray= cv2.GaussianBlur(gray, (kernel, kernel), 0)\n",
    "        edges = cv2.Canny(blur_gray, min, max)\n",
    "        return(edges)\n",
    "    edges_img = canny_edges(gray_img)\n",
    "    cv2.imshow ('Canny', edges_img)\n",
    "    k = cv2.waitKey(1)\n",
    "    if k == ord('q'):\n",
    "        break \n",
    "cv2.destroyAllWindows() \n"
   ]
  },
  {
   "cell_type": "code",
   "execution_count": 3,
   "id": "c1cc8e84",
   "metadata": {},
   "outputs": [],
   "source": [
    "image = cv2.imread('solidYellowCurve2.jpg') \n",
    "image = cv2.cvtColor(image, cv2.COLOR_BGR2RGB)\n",
    "gray_img = cv2.cvtColor(image, cv2.COLOR_RGB2GRAY)\n",
    "def nothing(x):\n",
    "    pass\n",
    "\n",
    "cv2.namedWindow('Canny')\n",
    "cv2.createTrackbar('Min','Canny',1,200,nothing)\n",
    "cv2.createTrackbar('Max','Canny',1,200,nothing)\n",
    "while True:\n",
    "    min=cv2.getTrackbarPos('Min','Canny')\n",
    "    max=cv2.getTrackbarPos('Max','Canny')\n",
    "\n",
    "    def canny_edges(gray):\n",
    "        kernel = 5\n",
    "        blur_gray= cv2.GaussianBlur(gray, (kernel, kernel), 0)\n",
    "        edges = cv2.Canny(blur_gray, min, max)\n",
    "        return(edges)\n",
    "    edges_img = canny_edges(gray_img)\n",
    "    cv2.imshow ('Canny', edges_img)\n",
    "    k = cv2.waitKey(1)\n",
    "    if k == ord('q'):\n",
    "        break \n",
    "cv2.destroyAllWindows() \n"
   ]
  },
  {
   "cell_type": "markdown",
   "id": "25da54b9",
   "metadata": {},
   "source": [
    "# Q2 The out of question 1 make it as input for question 2 after make region of interest then make trackbar for houghlines parameters (threshold ,min_line_lengthmax_line_gap and then draw 2 line on image."
   ]
  },
  {
   "cell_type": "code",
   "execution_count": 4,
   "id": "b584ae3d",
   "metadata": {},
   "outputs": [
    {
     "name": "stderr",
     "output_type": "stream",
     "text": [
      "C:\\Users\\Belk Electronics\\Desktop\\New folder\\helpers.py:68: RuntimeWarning: divide by zero encountered in int_scalars\n",
      "  slope = (y2-y1)/(x2-x1)\n"
     ]
    }
   ],
   "source": [
    "RHO = 1\n",
    "THETA = np.pi/180\n",
    "MIN_VOTES = 10\n",
    "def nothing(x):\n",
    "    pass\n",
    "\n",
    "cv2.namedWindow('Hough Lines')\n",
    "cv2.createTrackbar('Min_line_length','Hough Lines',1,100,nothing)\n",
    "cv2.createTrackbar('Max_line_gap','Hough Lines',1,100,nothing)\n",
    "cv2.createTrackbar('Threshold','Hough Lines',1,200,nothing)\n",
    "while True:\n",
    "    min_length=cv2.getTrackbarPos('Min_line_length','Hough Lines')\n",
    "    max_gap=cv2.getTrackbarPos('Max_line_gap','Hough Lines')\n",
    "    threshold=cv2.getTrackbarPos('Threshold','Hough Lines')\n",
    "    \n",
    "    def hough_lines(img):\n",
    "        lines = cv2.HoughLinesP(img, RHO, THETA, threshold, np.array([]), minLineLength=min_length, maxLineGap=max_gap)\n",
    "        return lines\n",
    "        \n",
    "    ROI_edges_img = helpers_masked_edges(edges_img)\n",
    "\n",
    "    lines = hough_lines(ROI_edges_img)\n",
    "    hough_lines_image = helpers_draw_lines(lines, ROI_edges_img)\n",
    "    lanes = helpers_formulate_lanes(lines, ROI_edges_img)\n",
    "    lanes_image = helpers_draw_lines(lanes, ROI_edges_img)\n",
    "\n",
    "    final_image = cv2.addWeighted(image, 0.8, lanes_image, 1, 0) \n",
    "    \n",
    "    cv2.imshow ('Hough Lines', final_image)\n",
    "    k = cv2.waitKey(1)\n",
    "    if k == ord('q'):\n",
    "        break \n",
    "cv2.destroyAllWindows()"
   ]
  },
  {
   "cell_type": "code",
   "execution_count": null,
   "id": "5e308d58",
   "metadata": {},
   "outputs": [],
   "source": []
  }
 ],
 "metadata": {
  "kernelspec": {
   "display_name": "Python 3 (ipykernel)",
   "language": "python",
   "name": "python3"
  },
  "language_info": {
   "codemirror_mode": {
    "name": "ipython",
    "version": 3
   },
   "file_extension": ".py",
   "mimetype": "text/x-python",
   "name": "python",
   "nbconvert_exporter": "python",
   "pygments_lexer": "ipython3",
   "version": "3.9.7"
  }
 },
 "nbformat": 4,
 "nbformat_minor": 5
}
