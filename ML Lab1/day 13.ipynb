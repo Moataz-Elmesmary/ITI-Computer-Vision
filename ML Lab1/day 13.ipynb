{
 "cells": [
  {
   "cell_type": "markdown",
   "id": "f204d5ab",
   "metadata": {},
   "source": [
    "# Q1\n",
    "z = 5x - 3y + 7\n",
    "Task: Given the previous equation: - Generate 10 random values for `x` and `y` as \n",
    "input with max. value = 100. \n",
    "Input shape should be (10,2) \n",
    "- Generate z for the above values.\n",
    "- Create a model with 2 inputs to accept x and y and predicts z. -\n",
    " You must show the results: Model Weights."
   ]
  },
  {
   "cell_type": "code",
   "execution_count": 46,
   "id": "3f86b44a",
   "metadata": {},
   "outputs": [],
   "source": [
    "import tensorflow as tf\n",
    "import numpy as np\n",
    "import random\n",
    "import time"
   ]
  },
  {
   "cell_type": "code",
   "execution_count": 47,
   "id": "899ee7b3",
   "metadata": {},
   "outputs": [],
   "source": [
    "x = np.random.randint(100, size = (10,2))"
   ]
  },
  {
   "cell_type": "code",
   "execution_count": 48,
   "id": "18d22677",
   "metadata": {},
   "outputs": [
    {
     "name": "stdout",
     "output_type": "stream",
     "text": [
      "[[85 75]\n",
      " [26 81]\n",
      " [71  3]\n",
      " [85 10]\n",
      " [97  8]\n",
      " [48 69]\n",
      " [81 51]\n",
      " [75 65]\n",
      " [82 44]\n",
      " [38 17]]\n"
     ]
    },
    {
     "data": {
      "text/plain": [
       "(10, 2)"
      ]
     },
     "execution_count": 48,
     "metadata": {},
     "output_type": "execute_result"
    }
   ],
   "source": [
    "print(x)\n",
    "x.shape"
   ]
  },
  {
   "cell_type": "code",
   "execution_count": 49,
   "id": "7b79403c",
   "metadata": {},
   "outputs": [],
   "source": [
    "z = 5*x[:,0] - 3*x[:,1] +7"
   ]
  },
  {
   "cell_type": "code",
   "execution_count": 50,
   "id": "457b2806",
   "metadata": {},
   "outputs": [
    {
     "name": "stdout",
     "output_type": "stream",
     "text": [
      "[ 207 -106  353  402  468   40  259  187  285  146]\n"
     ]
    }
   ],
   "source": [
    "print(z)"
   ]
  },
  {
   "cell_type": "code",
   "execution_count": 51,
   "id": "5ac47806",
   "metadata": {},
   "outputs": [],
   "source": [
    "model = tf.keras.Sequential(\n",
    "    tf.keras.layers.Dense(units=1, input_shape=[2])\n",
    ")"
   ]
  },
  {
   "cell_type": "code",
   "execution_count": 52,
   "id": "be58fa68",
   "metadata": {},
   "outputs": [],
   "source": [
    "model.compile(\n",
    "        loss='mean_squared_error',\n",
    "        optimizer=tf.keras.optimizers.Adam(0.1)\n",
    "    )"
   ]
  },
  {
   "cell_type": "code",
   "execution_count": 53,
   "id": "181d34b6",
   "metadata": {},
   "outputs": [
    {
     "name": "stdout",
     "output_type": "stream",
     "text": [
      "You must install pydot (`pip install pydot`) and install graphviz (see instructions at https://graphviz.gitlab.io/download/) for plot_model/model_to_dot to work.\n"
     ]
    }
   ],
   "source": [
    "tf.keras.utils.plot_model(\n",
    "        model,\n",
    "        to_file='Files/model.png',\n",
    "        show_layer_names=True,\n",
    "        show_shapes=True\n",
    "    )"
   ]
  },
  {
   "cell_type": "code",
   "execution_count": 54,
   "id": "434eaf8b",
   "metadata": {},
   "outputs": [
    {
     "name": "stdout",
     "output_type": "stream",
     "text": [
      "Training took: 3.02 Sec\n"
     ]
    }
   ],
   "source": [
    "t = time.time()\n",
    "hist = model.fit(x, z, epochs=2000, verbose=0)\n",
    "print (str.format(\"Training took: {:0.2f} Sec\", time.time() - t))"
   ]
  },
  {
   "cell_type": "code",
   "execution_count": 55,
   "id": "3d82d2d3",
   "metadata": {
    "scrolled": true
   },
   "outputs": [
    {
     "data": {
      "text/plain": [
       "[<matplotlib.lines.Line2D at 0x17c13e39ac0>]"
      ]
     },
     "execution_count": 55,
     "metadata": {},
     "output_type": "execute_result"
    },
    {
     "data": {
      "image/png": "[encoded data removed]",
      "text/plain": [
       "<Figure size 432x288 with 1 Axes>"
      ]
     },
     "metadata": {
      "needs_background": "light"
     },
     "output_type": "display_data"
    }
   ],
   "source": [
    "import matplotlib.pyplot as plt\n",
    "plt.xlabel('Epoch Number')\n",
    "plt.ylabel(\"Loss Magnitude\")\n",
    "plt.plot(hist.history['loss'][-500:])"
   ]
  },
  {
   "cell_type": "code",
   "execution_count": 56,
   "id": "4155a238",
   "metadata": {
    "scrolled": false
   },
   "outputs": [
    {
     "data": {
      "text/plain": [
       "[array([[ 5.0095687],\n",
       "        [-2.9948413]], dtype=float32),\n",
       " array([6.07268], dtype=float32)]"
      ]
     },
     "execution_count": 56,
     "metadata": {},
     "output_type": "execute_result"
    }
   ],
   "source": [
    "model.get_weights()"
   ]
  },
  {
   "cell_type": "code",
   "execution_count": null,
   "id": "7bf9fd9e",
   "metadata": {},
   "outputs": [],
   "source": []
  }
 ],
 "metadata": {
  "kernelspec": {
   "display_name": "Python 3 (ipykernel)",
   "language": "python",
   "name": "python3"
  },
  "language_info": {
   "codemirror_mode": {
    "name": "ipython",
    "version": 3
   },
   "file_extension": ".py",
   "mimetype": "text/x-python",
   "name": "python",
   "nbconvert_exporter": "python",
   "pygments_lexer": "ipython3",
   "version": "3.9.7"
  }
 },
 "nbformat": 4,
 "nbformat_minor": 5
}
