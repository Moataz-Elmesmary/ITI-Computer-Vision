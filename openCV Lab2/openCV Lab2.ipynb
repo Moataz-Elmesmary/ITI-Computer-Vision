{
 "cells": [
  {
   "cell_type": "markdown",
   "id": "1c84dc68",
   "metadata": {},
   "source": [
    "# Q1 Make 100*100 rgb pixel image with white background and make diagonal of image with black color"
   ]
  },
  {
   "cell_type": "code",
   "execution_count": 1,
   "id": "928d66ca",
   "metadata": {},
   "outputs": [],
   "source": [
    "import cv2\n",
    "import numpy as np\n",
    "import matplotlib.pyplot as plt"
   ]
  },
  {
   "cell_type": "code",
   "execution_count": 2,
   "id": "728bfe7a",
   "metadata": {},
   "outputs": [
    {
     "data": {
      "text/plain": [
       "<matplotlib.image.AxesImage at 0x1d69aca6fd0>"
      ]
     },
     "execution_count": 2,
     "metadata": {},
     "output_type": "execute_result"
    },
    {
     "data": {
      "image/png": "[encoded data removed]",
      "text/plain": [
       "<Figure size 432x288 with 1 Axes>"
      ]
     },
     "metadata": {
      "needs_background": "light"
     },
     "output_type": "display_data"
    }
   ],
   "source": [
    "img = np.ones((100,100,3))\n",
    "\n",
    "for i, row in enumerate(img):\n",
    "    for j, col in enumerate(row):\n",
    "        if (i==j):\n",
    "            img[i,j] = 0\n",
    "\n",
    "plt.imshow(img, cmap='gray')"
   ]
  },
  {
   "cell_type": "markdown",
   "id": "3182849f",
   "metadata": {},
   "source": [
    "# Q2- run video stream using your laptop camera and save frames when i press key “s” close camera when i press “q” ,name of images should be “img.png +{counter}”"
   ]
  },
  {
   "cell_type": "code",
   "execution_count": 1,
   "id": "aef98235",
   "metadata": {},
   "outputs": [],
   "source": [
    "import cv2\n",
    "\n",
    "video = cv2.VideoCapture(0) \n",
    "\n",
    "a = 0\n",
    "while True:\n",
    "    a = a + 1\n",
    "    check, frame = video.read()\n",
    "    cv2.imshow('frame',frame)\n",
    "    #for playing \n",
    "    key = cv2.waitKey(1)\n",
    "    if key == ord('s'):\n",
    "        break\n",
    "    elif key == ord('q'):\n",
    "        cv2.imwrite('img.png', frame)\n",
    "    else:\n",
    "        break\n",
    "\n",
    "video.release()\n",
    "cv2.destroyAllWindows()"
   ]
  },
  {
   "cell_type": "markdown",
   "id": "9462c012",
   "metadata": {},
   "source": [
    "# Q3 Make 100*100 rgb pixel image with black background and make diagonal of image with (x) color such that x is came from rgb trackbar."
   ]
  },
  {
   "cell_type": "code",
   "execution_count": 3,
   "id": "9564953c",
   "metadata": {},
   "outputs": [],
   "source": [
    "def nothing (x):\n",
    "    pass\n",
    "\n",
    "cv2.namedWindow('image')\n",
    "cv2.createTrackbar('R','image',0,255,nothing)\n",
    "cv2.createTrackbar('G','image',0,255,nothing)\n",
    "cv2.createTrackbar('B','image',0,255,nothing)\n",
    "\n",
    "\n",
    "img = np.zeros((100,100,3),np.uint8)\n",
    "\n",
    "while True:\n",
    "    r = cv2.getTrackbarPos('R', 'image')\n",
    "    g = cv2.getTrackbarPos('G', 'image')\n",
    "    b = cv2.getTrackbarPos('B', 'image')\n",
    "    \n",
    "    for i, row in enumerate(img):\n",
    "        for j, col in enumerate(row):\n",
    "            if (i==j):\n",
    "                img[i,j] = [r,g,b]\n",
    "    \n",
    "    cv2.imshow('image',img)\n",
    "    k = cv2.waitKey(1)\n",
    "    if k == ord('q'):\n",
    "        break\n",
    "\n",
    "cv2.destroyAllWindows()"
   ]
  },
  {
   "cell_type": "markdown",
   "id": "f5d8f841",
   "metadata": {},
   "source": [
    "# Q4 create 100*100 rgb image with black background and make 1 vertical line and 1 horizontal line the color of both should be controlled spereat from 2 trackbar First one “horz” and second one is “vert”"
   ]
  },
  {
   "cell_type": "code",
   "execution_count": 4,
   "id": "4e6a4dfa",
   "metadata": {},
   "outputs": [],
   "source": [
    "cv2.namedWindow('image')\n",
    "\n",
    "def nothing(x):\n",
    "    pass\n",
    "\n",
    "cv2.createTrackbar('VertRed','image',0,255,nothing)\n",
    "cv2.createTrackbar('VertGreen','image',0,255,nothing)\n",
    "cv2.createTrackbar('VertBlue','image',0,255,nothing)\n",
    "cv2.createTrackbar('HorzRed','image',0,255,nothing)\n",
    "cv2.createTrackbar('HorzGreen','image',0,255,nothing)\n",
    "cv2.createTrackbar('HorzBlue','image',0,255,nothing)\n",
    "\n",
    "img = np.zeros((500,500,3),np.uint8)\n",
    "\n",
    "while True:\n",
    "    vr = cv2.getTrackbarPos('VertRed', 'image')\n",
    "    vg = cv2.getTrackbarPos('VertGreen', 'image')\n",
    "    vb = cv2.getTrackbarPos('VertBlue', 'image')\n",
    "\n",
    "    hr = cv2.getTrackbarPos('HorzRed', 'image')\n",
    "    hg = cv2.getTrackbarPos('HorzGreen', 'image')\n",
    "    hb =cv2.getTrackbarPos('HorzBlue', 'image')\n",
    "    img[10] = [hr,hg,hb]\n",
    "    img[:,90] = [vr,vg,vb]\n",
    "    \n",
    "    cv2.imshow('image',img)\n",
    "    k = cv2.waitKey(1)\n",
    "    if k == ord('q'):\n",
    "        break\n",
    "\n",
    "cv2.destroyAllWindows()\n",
    "\n",
    "    "
   ]
  },
  {
   "cell_type": "markdown",
   "id": "a4df967f",
   "metadata": {},
   "source": [
    "# Q5 create 250*250 rgb image with black background and make 1 vertical line and 1 horizontal line with red color and both should be controlled spereat from 2 trackbar to select the horizontal line in which row and vertical line in which column. First one “horz” and second one is “vert” (Trackbar)"
   ]
  },
  {
   "cell_type": "code",
   "execution_count": 2,
   "id": "a73b0131",
   "metadata": {},
   "outputs": [],
   "source": [
    "import cv2\n",
    "import numpy as np"
   ]
  },
  {
   "cell_type": "code",
   "execution_count": 4,
   "id": "464e6f84",
   "metadata": {},
   "outputs": [
    {
     "ename": "error",
     "evalue": "OpenCV(4.6.0) :-1: error: (-5:Bad argument) in function 'imshow'\n> Overload resolution failed:\n>  - mat data type = 8 is not supported\n>  - Expected Ptr<cv::cuda::GpuMat> for argument 'mat'\n>  - Expected Ptr<cv::UMat> for argument 'mat'\n",
     "output_type": "error",
     "traceback": [
      "\u001b[1;31m---------------------------------------------------------------------------\u001b[0m",
      "\u001b[1;31merror\u001b[0m                                     Traceback (most recent call last)",
      "\u001b[1;32mC:\\Users\\BELKEL~1\\AppData\\Local\\Temp/ipykernel_7808/3436783889.py\u001b[0m in \u001b[0;36m<module>\u001b[1;34m\u001b[0m\n\u001b[0;32m     17\u001b[0m     \u001b[0mimg\u001b[0m\u001b[1;33m[\u001b[0m\u001b[1;33m:\u001b[0m\u001b[1;33m,\u001b[0m\u001b[0mv\u001b[0m\u001b[1;33m]\u001b[0m \u001b[1;33m=\u001b[0m \u001b[1;33m[\u001b[0m\u001b[1;36m0\u001b[0m\u001b[1;33m,\u001b[0m\u001b[1;36m0\u001b[0m\u001b[1;33m,\u001b[0m\u001b[1;36m255\u001b[0m\u001b[1;33m]\u001b[0m\u001b[1;33m\u001b[0m\u001b[1;33m\u001b[0m\u001b[0m\n\u001b[0;32m     18\u001b[0m \u001b[1;33m\u001b[0m\u001b[0m\n\u001b[1;32m---> 19\u001b[1;33m     \u001b[0mcv2\u001b[0m\u001b[1;33m.\u001b[0m\u001b[0mimshow\u001b[0m\u001b[1;33m(\u001b[0m\u001b[1;34m'image'\u001b[0m\u001b[1;33m,\u001b[0m \u001b[0mimg\u001b[0m\u001b[1;33m)\u001b[0m\u001b[1;33m\u001b[0m\u001b[1;33m\u001b[0m\u001b[0m\n\u001b[0m\u001b[0;32m     20\u001b[0m     \u001b[0mk\u001b[0m \u001b[1;33m=\u001b[0m \u001b[0mcv2\u001b[0m\u001b[1;33m.\u001b[0m\u001b[0mwaitKey\u001b[0m\u001b[1;33m(\u001b[0m\u001b[1;36m1\u001b[0m\u001b[1;33m)\u001b[0m\u001b[1;33m\u001b[0m\u001b[1;33m\u001b[0m\u001b[0m\n\u001b[0;32m     21\u001b[0m     \u001b[1;32mif\u001b[0m \u001b[0mk\u001b[0m \u001b[1;33m==\u001b[0m \u001b[1;36m27\u001b[0m\u001b[1;33m:\u001b[0m\u001b[1;33m\u001b[0m\u001b[1;33m\u001b[0m\u001b[0m\n",
      "\u001b[1;31merror\u001b[0m: OpenCV(4.6.0) :-1: error: (-5:Bad argument) in function 'imshow'\n> Overload resolution failed:\n>  - mat data type = 8 is not supported\n>  - Expected Ptr<cv::cuda::GpuMat> for argument 'mat'\n>  - Expected Ptr<cv::UMat> for argument 'mat'\n"
     ]
    }
   ],
   "source": [
    "# This CELL IS NOT WORKING FOR ME\n",
    "cv2.namedWindow('image')\n",
    "\n",
    "def nothing(x):\n",
    "    pass\n",
    "\n",
    "cv2.createTrackbar('horz', 'image', 0, 249, nothing)\n",
    "cv2.createTrackbar('vert', 'image', 0, 249, nothing)\n",
    "\n",
    "while(1):\n",
    "    img = np.zeros((250, 250, 3), np.uint)\n",
    "    h = cv2.getTrackbarPos('horz', 'image')\n",
    "    v = cv2.getTrackbarPos('vert', 'image')\n",
    "    img[h] = [0,0,255]\n",
    "    img[:,v] = [0,0,255]\n",
    "    \n",
    "    cv2.imshow('image', img)\n",
    "    k = cv2.waitKey(1)\n",
    "    if k == 27:\n",
    "        break\n",
    "        \n",
    "cv2.destroyAllWindows()"
   ]
  },
  {
   "cell_type": "code",
   "execution_count": 3,
   "id": "67f7c814",
   "metadata": {},
   "outputs": [],
   "source": [
    "#This Works\n",
    "\n",
    "cv2.namedWindow('image')\n",
    "\n",
    "def nothing(x):\n",
    "    pass\n",
    "\n",
    "cv2.createTrackbar('vert','image',0,249,nothing)\n",
    "cv2.createTrackbar('horz','image',0,249,nothing)\n",
    "\n",
    "img = np.zeros((250,250,3),np.uint8)\n",
    "while True:\n",
    "    v = cv2.getTrackbarPos('vert', 'image')\n",
    "    h = cv2.getTrackbarPos('horz', 'image')\n",
    "    img[:] = 0\n",
    "    img[h] = [0,0,255]\n",
    "    img[:,v] = [0,0,255]\n",
    "    \n",
    "    cv2.imshow('image',img)\n",
    "    k = cv2.waitKey(1)\n",
    "    if k == ord('q'):\n",
    "        break\n",
    "\n",
    "cv2.destroyAllWindows()"
   ]
  },
  {
   "cell_type": "code",
   "execution_count": null,
   "id": "7dab7f47",
   "metadata": {},
   "outputs": [],
   "source": []
  }
 ],
 "metadata": {
  "kernelspec": {
   "display_name": "Python 3 (ipykernel)",
   "language": "python",
   "name": "python3"
  },
  "language_info": {
   "codemirror_mode": {
    "name": "ipython",
    "version": 3
   },
   "file_extension": ".py",
   "mimetype": "text/x-python",
   "name": "python",
   "nbconvert_exporter": "python",
   "pygments_lexer": "ipython3",
   "version": "3.9.7"
  }
 },
 "nbformat": 4,
 "nbformat_minor": 5
}
