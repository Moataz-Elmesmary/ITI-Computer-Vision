{
 "cells": [
  {
   "cell_type": "markdown",
   "id": "311dacc6",
   "metadata": {},
   "source": [
    "# 1. Write a Python class to find a pair of elements (indices of the two numbers) from a given array whose sum equals a specific target number.\n",
    "Note: There will be one solution for each input and do not use the same element \n",
    "twice.\n",
    "Input: numbers(input for method not user)= [10,20,10,40,50,60,70], target=50\n",
    "Output: 2,3"
   ]
  },
  {
   "cell_type": "code",
   "execution_count": 1,
   "id": "9d02b973",
   "metadata": {},
   "outputs": [
    {
     "name": "stdout",
     "output_type": "stream",
     "text": [
      "(2, 3)\n"
     ]
    }
   ],
   "source": [
    "class Pairs_indices:\n",
    "  def sum_nums(self, nums, target):\n",
    "       lookup = {}\n",
    "       for i, num in enumerate(nums):\n",
    "           if target - num in lookup:\n",
    "               return (lookup[target - num], i )\n",
    "           lookup[num] = i\n",
    "print(Pairs_indices().sum_nums((10,20,10,40,50,60,70),50))"
   ]
  },
  {
   "cell_type": "markdown",
   "id": "5bdfb20e",
   "metadata": {},
   "source": [
    "# 2- Write a Python program to check whether a given string contains a capital letter, a lower case letter, a number and a minimum length (8).\n",
    "Sample input (user input) : Myageis18yearsold\n",
    "Output should be:['Valid string.']"
   ]
  },
  {
   "cell_type": "code",
   "execution_count": 2,
   "id": "1bbb51e4",
   "metadata": {},
   "outputs": [
    {
     "name": "stdout",
     "output_type": "stream",
     "text": [
      "Input the string to be checked: Myageis18yearsold\n",
      "['Valid string.']\n"
     ]
    }
   ],
   "source": [
    "def checkString(s):\n",
    "    msg = []\n",
    "    if not any(x.isupper() for x in s):\n",
    "        msg.append('must contain upper case letter.')\n",
    "        \n",
    "    if not any(x.islower() for x in s):\n",
    "        msg.append('must contain lower case letter.')\n",
    "        \n",
    "    if not any(x.isdigit() for x in s):\n",
    "        msg.append('must contain a number.')\n",
    "        \n",
    "    if len(s) < 8:\n",
    "        msg.append('String length must be atleast 8.') \n",
    "        \n",
    "    if not msg:\n",
    "        msg.append('Valid string.')\n",
    "    return msg\n",
    "    \n",
    "s = input(\"Input the string to be checked: \")\n",
    "print(checkString(s))"
   ]
  },
  {
   "cell_type": "markdown",
   "id": "ef0cca91",
   "metadata": {},
   "source": [
    "# 3- Write a Python program to multiply two integers without using the * operator in python.\n",
    "Input for method: 5,6\n",
    "Output:30"
   ]
  },
  {
   "cell_type": "code",
   "execution_count": 3,
   "id": "8a412954",
   "metadata": {},
   "outputs": [
    {
     "name": "stdout",
     "output_type": "stream",
     "text": [
      "Enter the 1st number: 5\n",
      "Enter the second number: 6\n",
      "Multiplication of numbers:  30\n"
     ]
    }
   ],
   "source": [
    "num1 = int(input(\"Enter the 1st number: \"))\n",
    "num2 = int(input(\"Enter the second number: \"))\n",
    "product = 0\n",
    "for i in range (1,num2+1):\n",
    "    product = product + num1\n",
    "print(\"Multiplication of numbers: \",product)"
   ]
  },
  {
   "cell_type": "markdown",
   "id": "010d3312",
   "metadata": {},
   "source": [
    "# 4-. Write a Python program to construct the following pattern, using a nested for loop."
   ]
  },
  {
   "cell_type": "code",
   "execution_count": 4,
   "id": "5f7baf5f",
   "metadata": {},
   "outputs": [
    {
     "name": "stdout",
     "output_type": "stream",
     "text": [
      "\n",
      "* \n",
      "* * \n",
      "* * * \n",
      "* * * * \n",
      "* * * * * \n",
      "* * * * \n",
      "* * * \n",
      "* * \n",
      "* \n"
     ]
    }
   ],
   "source": [
    "n=5;\n",
    "for i in range(n):\n",
    "    for j in range(i):\n",
    "        print ('* ', end=\"\")\n",
    "    print('')\n",
    "\n",
    "for i in range(n,0,-1):\n",
    "    for j in range(i):\n",
    "        print('* ', end=\"\")\n",
    "    print('')"
   ]
  },
  {
   "cell_type": "markdown",
   "id": "2e342d37",
   "metadata": {},
   "source": [
    "# 5. Write a Python program to count the number of even and odd numbers from a series of numbers. \n",
    "Sample numbers : numbers = (1, 2, 3, 4, 5, 6, 7, 8, 9) \n",
    "Expected Output :\n",
    "Number of even numbers : 4\n",
    "Number of odd numbers : 5"
   ]
  },
  {
   "cell_type": "code",
   "execution_count": 5,
   "id": "21af6124",
   "metadata": {},
   "outputs": [
    {
     "name": "stdout",
     "output_type": "stream",
     "text": [
      "Number of even:  4\n",
      "Number of odd:  5\n"
     ]
    }
   ],
   "source": [
    "numbers = (1, 2, 3, 4, 5, 6, 7, 8, 9)\n",
    "\n",
    "even_count, odd_count = 0, 0\n",
    " \n",
    "for num in numbers:\n",
    "    if num % 2 == 0:\n",
    "        even_count += 1\n",
    "    else:\n",
    "        odd_count += 1\n",
    "         \n",
    "print(\"Number of even: \", even_count)\n",
    "print(\"Number of odd: \", odd_count)"
   ]
  },
  {
   "cell_type": "markdown",
   "id": "7b0143e3",
   "metadata": {},
   "source": [
    "# 6- Write a Python program to check a string represent an integer or not?\n",
    "User input (computer vision)\n",
    "Output:The string is not an integer"
   ]
  },
  {
   "cell_type": "code",
   "execution_count": 6,
   "id": "f39c6bdf",
   "metadata": {},
   "outputs": [
    {
     "name": "stdout",
     "output_type": "stream",
     "text": [
      "Enter any value: computer vision\n",
      "It is a string \n"
     ]
    }
   ],
   "source": [
    "str = input(\"Enter any value: \")\n",
    " \n",
    "if str.isdigit():\n",
    "    print(\"It is an Integer \")\n",
    "else:\n",
    "    print(\"It is a string \")"
   ]
  },
  {
   "cell_type": "markdown",
   "id": "0c235380",
   "metadata": {},
   "source": [
    "# 7. Write a Python function that accepts a string and calculate the number of upper case letters and lower case letters. Go to the editor\n",
    "Sample String : 'The quick Brow Fox'\n",
    "Expected Output :\n",
    "No. of Upper case characters : 3\n",
    "No. of Lower case Characters : 12"
   ]
  },
  {
   "cell_type": "code",
   "execution_count": 7,
   "id": "657fb895",
   "metadata": {},
   "outputs": [
    {
     "name": "stdout",
     "output_type": "stream",
     "text": [
      "Enter string: The quick Brow Fox\n",
      "No. of Lower case Characters: \n",
      "12\n",
      "No. of Upper case Characters:\n",
      "3\n"
     ]
    }
   ],
   "source": [
    "string = input(\"Enter string: \")\n",
    "\n",
    "count1, count2 = 0, 0\n",
    "\n",
    "for i in string:\n",
    "      if(i.islower()):\n",
    "            count1=count1+1\n",
    "      elif(i.isupper()):\n",
    "            count2=count2+1\n",
    "print(\"No. of Lower case Characters: \")\n",
    "print(count1)\n",
    "print(\"No. of Upper case Characters:\")\n",
    "print(count2)"
   ]
  },
  {
   "cell_type": "code",
   "execution_count": null,
   "id": "ea2a7996",
   "metadata": {},
   "outputs": [],
   "source": []
  }
 ],
 "metadata": {
  "kernelspec": {
   "display_name": "Python 3 (ipykernel)",
   "language": "python",
   "name": "python3"
  },
  "language_info": {
   "codemirror_mode": {
    "name": "ipython",
    "version": 3
   },
   "file_extension": ".py",
   "mimetype": "text/x-python",
   "name": "python",
   "nbconvert_exporter": "python",
   "pygments_lexer": "ipython3",
   "version": "3.9.7"
  }
 },
 "nbformat": 4,
 "nbformat_minor": 5
}
