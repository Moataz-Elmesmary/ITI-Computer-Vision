{
 "cells": [
  {
   "cell_type": "code",
   "execution_count": 1,
   "metadata": {},
   "outputs": [],
   "source": [
    "import cv2\n",
    "import numpy as np"
   ]
  },
  {
   "cell_type": "code",
   "execution_count": 6,
   "metadata": {},
   "outputs": [],
   "source": [
    "cv2.namedWindow('image')\n",
    "\n",
    "r=0; g=0; b=0\n",
    "\n",
    "def fooR(x):\n",
    "  global r\n",
    "  r = x\n",
    "\n",
    "def fooG(x):\n",
    "  global g\n",
    "  g = x\n",
    "\n",
    "def fooB(x):\n",
    "  global b\n",
    "  b = x\n",
    "\n",
    "cv2.createTrackbar('R', 'image', 0, 255, fooR)\n",
    "cv2.createTrackbar('G', 'image', 0, 255, fooG)\n",
    "cv2.createTrackbar('B', 'image', 0, 255, fooB)\n",
    "\n",
    "img = np.zeros((512, 512, 3), np.uint8)\n",
    "\n",
    "while(1):\n",
    "  # r = cv2.getTrackbarPos('R', 'image')\n",
    "  # g = cv2.getTrackbarPos('G', 'image')\n",
    "  # b = cv2.getTrackbarPos('B', 'image')\n",
    "  img[:] = [b, g, r]\n",
    "  cv2.imshow('image', img)\n",
    "  k = cv2.waitKey(1)\n",
    "  if k == 27:\n",
    "    break\n",
    "\n",
    "cv2.destroyAllWindows()"
   ]
  },
  {
   "cell_type": "code",
   "execution_count": null,
   "metadata": {},
   "outputs": [],
   "source": []
  }
 ],
 "metadata": {
  "kernelspec": {
   "display_name": "Python 3.9.6 64-bit",
   "language": "python",
   "name": "python3"
  },
  "language_info": {
   "codemirror_mode": {
    "name": "ipython",
    "version": 3
   },
   "file_extension": ".py",
   "mimetype": "text/x-python",
   "name": "python",
   "nbconvert_exporter": "python",
   "pygments_lexer": "ipython3",
   "version": "3.9.6"
  },
  "orig_nbformat": 4,
  "vscode": {
   "interpreter": {
    "hash": "bc90a27062a86bcbede4fae97f7255f284021a57c3074c8387c03b68a69257bf"
   }
  }
 },
 "nbformat": 4,
 "nbformat_minor": 2
}
