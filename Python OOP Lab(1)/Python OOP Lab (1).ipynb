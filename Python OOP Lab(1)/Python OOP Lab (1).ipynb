{
 "cells": [
  {
   "cell_type": "markdown",
   "id": "78a11f9c",
   "metadata": {},
   "source": [
    "# Q1 Create a Vehicle class with name, max_speed and mileage instance attributes."
   ]
  },
  {
   "cell_type": "code",
   "execution_count": 6,
   "id": "479811d1",
   "metadata": {},
   "outputs": [
    {
     "name": "stdout",
     "output_type": "stream",
     "text": [
      "Audi 175 20\n"
     ]
    }
   ],
   "source": [
    "class Vehicle:\n",
    "    def __init__(self, name, max_speed, mileage):\n",
    "        self.name = name\n",
    "        self.max_speed = max_speed\n",
    "        self.mileage = mileage        \n",
    "car = Vehicle(\"Audi\", 175, 20)\n",
    "print(car.name, car.max_speed, car.mileage)"
   ]
  },
  {
   "cell_type": "markdown",
   "id": "3222f6a3",
   "metadata": {},
   "source": [
    "# Q2 Create a child class Bus that will inherit all of the attributes and methods of the Vehicle class."
   ]
  },
  {
   "cell_type": "code",
   "execution_count": 7,
   "id": "3961d963",
   "metadata": {},
   "outputs": [
    {
     "name": "stdout",
     "output_type": "stream",
     "text": [
      "Vehicle Name: Chevrolet Speed: 175 Mileage: 15\n"
     ]
    }
   ],
   "source": [
    "class Vehicle:\n",
    "\n",
    "    def __init__(self, name, max_speed, mileage):\n",
    "        self.name = name\n",
    "        self.max_speed = max_speed\n",
    "        self.mileage = mileage\n",
    "\n",
    "class Bus(Vehicle):\n",
    "    pass\n",
    "\n",
    "bus_1 = Bus(\"Chevrolet\", 175, 15)\n",
    "print(\"Vehicle Name:\", bus_1.name, \"Speed:\", bus_1.max_speed, \"Mileage:\", bus_1.mileage)"
   ]
  },
  {
   "cell_type": "markdown",
   "id": "c7aa81d3",
   "metadata": {},
   "source": [
    "# Q3 Add a function seating_capacity to the vehicle class that takes as an argument the capacity of the vehicle and returns the following formatted string \"The seating capacity of a {<vehicle_name>} is {capacity} passengers"
   ]
  },
  {
   "cell_type": "code",
   "execution_count": 8,
   "id": "b7341c5f",
   "metadata": {},
   "outputs": [],
   "source": [
    "class Vehicle:\n",
    "    def __init__(self, name, max_speed, mileage):\n",
    "        self.name = name\n",
    "        self.max_speed = max_speed\n",
    "        self.mileage = mileage\n",
    "\n",
    "    def seating_capacity(self, capacity):\n",
    "        return f\"The seating capacity of a {self.name} is {capacity} passengers\""
   ]
  },
  {
   "cell_type": "markdown",
   "id": "8f98fb94",
   "metadata": {},
   "source": [
    "# Q4 override the function seating_capacity in the Bus class to give the capacity argument a default value of 50."
   ]
  },
  {
   "cell_type": "code",
   "execution_count": 14,
   "id": "a156b93d",
   "metadata": {},
   "outputs": [
    {
     "data": {
      "text/plain": [
       "'The seating capacity of a bus is 50 passengers'"
      ]
     },
     "execution_count": 14,
     "metadata": {},
     "output_type": "execute_result"
    }
   ],
   "source": [
    "class Vehicle:\n",
    "    def __init__(self, name, max_speed, mileage):\n",
    "        self.name = name\n",
    "        self.max_speed = max_speed\n",
    "        self.mileage = mileage\n",
    "\n",
    "    def seating_capacity(self, capacity):\n",
    "        return f\"The seating capacity of a {self.name} is {capacity} passengers\"\n",
    "class Bus(Vehicle):\n",
    "    \n",
    "    def seating_capacity(self, capacity=50):\n",
    "        return f\"The seating capacity of a {self.name} is {capacity} passengers\"\n",
    "    \n",
    "Bus(\"bus\", 100, 2000).seating_capacity()"
   ]
  },
  {
   "cell_type": "markdown",
   "id": "6c6fabcc",
   "metadata": {},
   "source": [
    "# Q5 Add an instance variable to the Bus class called capacity and give it a default value of 50"
   ]
  },
  {
   "cell_type": "code",
   "execution_count": 21,
   "id": "ca3b5a80",
   "metadata": {},
   "outputs": [
    {
     "data": {
      "text/plain": [
       "'The seating capacity of a Moatazs_bus is 50 passengers'"
      ]
     },
     "execution_count": 21,
     "metadata": {},
     "output_type": "execute_result"
    }
   ],
   "source": [
    "class Vehicle:\n",
    "    def __init__(self, name, max_speed, mileage):\n",
    "        self.name = name\n",
    "        self.max_speed = max_speed\n",
    "        self.mileage = mileage\n",
    "\n",
    "    def seating_capacity(self, capacity):\n",
    "        return f\"The seating capacity of a {self.name} is {capacity} passengers\"\n",
    "class Bus(Vehicle):\n",
    "    pass\n",
    "\n",
    "    \n",
    "Bus(\"Moatazs_bus\", 100, 2000).seating_capacity(50)"
   ]
  },
  {
   "cell_type": "markdown",
   "id": "6160e3f4",
   "metadata": {},
   "source": [
    "# Q6 Create a function fare() in the Bus class that calculates the renting fare of the bus per day according to the following equation. Fare = capacity *100"
   ]
  },
  {
   "cell_type": "code",
   "execution_count": 22,
   "id": "a1aa62a2",
   "metadata": {},
   "outputs": [
    {
     "name": "stdout",
     "output_type": "stream",
     "text": [
      "Total fare is: 5500.0\n"
     ]
    }
   ],
   "source": [
    "class Vehicle:\n",
    "    def __init__(self, name, mileage, capacity):\n",
    "        self.name = name\n",
    "        self.mileage = mileage\n",
    "        self.capacity = capacity\n",
    "\n",
    "    def fare(self):\n",
    "        return self.capacity * 100\n",
    "\n",
    "class Bus(Vehicle):\n",
    "    \n",
    "    def fare(self):\n",
    "        fare_vec = self.capacity * 100 \n",
    "        total_fare = fare_vec + (0.1 *fare_vec)\n",
    "        return total_fare\n",
    "\n",
    "Moatazs_bus = Bus(\"Volvo\", 12, 50)\n",
    "print(\"Total fare is:\", Moatazs_bus.fare())"
   ]
  },
  {
   "cell_type": "code",
   "execution_count": null,
   "id": "e696988f",
   "metadata": {},
   "outputs": [],
   "source": []
  }
 ],
 "metadata": {
  "kernelspec": {
   "display_name": "Python 3 (ipykernel)",
   "language": "python",
   "name": "python3"
  },
  "language_info": {
   "codemirror_mode": {
    "name": "ipython",
    "version": 3
   },
   "file_extension": ".py",
   "mimetype": "text/x-python",
   "name": "python",
   "nbconvert_exporter": "python",
   "pygments_lexer": "ipython3",
   "version": "3.9.7"
  }
 },
 "nbformat": 4,
 "nbformat_minor": 5
}
